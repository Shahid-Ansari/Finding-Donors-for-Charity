{
  "nbformat": 4,
  "nbformat_minor": 0,
  "metadata": {
    "colab": {
      "name": "Project : Finding Donors for CharityML.ipynb",
      "provenance": [],
      "collapsed_sections": []
    },
    "kernelspec": {
      "name": "python3",
      "display_name": "Python 3"
    },
    "accelerator": "GPU"
  },
  "cells": [
    {
      "cell_type": "code",
      "metadata": {
        "id": "U-l0udHFgCy3",
        "colab": {
          "base_uri": "https://localhost:8080/",
          "height": 127
        },
        "outputId": "779b400d-8fd6-4cae-9961-f21f3cfa778a"
      },
      "source": [
        "import numpy as np\n",
        "import pandas as pd\n",
        "from time import time\n",
        "from sklearn.model_selection import train_test_split,GridSearchCV\n",
        "from sklearn.metrics import fbeta_score,accuracy_score,make_scorer\n",
        "from sklearn.preprocessing import MinMaxScaler\n",
        "from sklearn.base import clone\n",
        "from sklearn.linear_model import LogisticRegression\n",
        "from sklearn.svm import LinearSVC\n",
        "from sklearn.ensemble import GradientBoostingClassifier\n",
        "from IPython.display import display\n",
        "import visuals as vs\n",
        "\n",
        "%matplotlib inline\n",
        "\n",
        "data=pd.read_csv(\"/content/census.csv\")\n",
        "display(data.head(n=1))"
      ],
      "execution_count": null,
      "outputs": [
        {
          "output_type": "display_data",
          "data": {
            "text/html": [
              "<div>\n",
              "<style scoped>\n",
              "    .dataframe tbody tr th:only-of-type {\n",
              "        vertical-align: middle;\n",
              "    }\n",
              "\n",
              "    .dataframe tbody tr th {\n",
              "        vertical-align: top;\n",
              "    }\n",
              "\n",
              "    .dataframe thead th {\n",
              "        text-align: right;\n",
              "    }\n",
              "</style>\n",
              "<table border=\"1\" class=\"dataframe\">\n",
              "  <thead>\n",
              "    <tr style=\"text-align: right;\">\n",
              "      <th></th>\n",
              "      <th>age</th>\n",
              "      <th>workclass</th>\n",
              "      <th>education_level</th>\n",
              "      <th>education-num</th>\n",
              "      <th>marital-status</th>\n",
              "      <th>occupation</th>\n",
              "      <th>relationship</th>\n",
              "      <th>race</th>\n",
              "      <th>sex</th>\n",
              "      <th>capital-gain</th>\n",
              "      <th>capital-loss</th>\n",
              "      <th>hours-per-week</th>\n",
              "      <th>native-country</th>\n",
              "      <th>income</th>\n",
              "    </tr>\n",
              "  </thead>\n",
              "  <tbody>\n",
              "    <tr>\n",
              "      <th>0</th>\n",
              "      <td>39</td>\n",
              "      <td>State-gov</td>\n",
              "      <td>Bachelors</td>\n",
              "      <td>13.0</td>\n",
              "      <td>Never-married</td>\n",
              "      <td>Adm-clerical</td>\n",
              "      <td>Not-in-family</td>\n",
              "      <td>White</td>\n",
              "      <td>Male</td>\n",
              "      <td>2174.0</td>\n",
              "      <td>0.0</td>\n",
              "      <td>40.0</td>\n",
              "      <td>United-States</td>\n",
              "      <td>&lt;=50K</td>\n",
              "    </tr>\n",
              "  </tbody>\n",
              "</table>\n",
              "</div>"
            ],
            "text/plain": [
              "   age   workclass education_level  ...  hours-per-week  native-country income\n",
              "0   39   State-gov       Bachelors  ...            40.0   United-States  <=50K\n",
              "\n",
              "[1 rows x 14 columns]"
            ]
          },
          "metadata": {
            "tags": []
          }
        }
      ]
    },
    {
      "cell_type": "code",
      "metadata": {
        "id": "gK6tB60viccl",
        "colab": {
          "base_uri": "https://localhost:8080/",
          "height": 84
        },
        "outputId": "4122f205-7f10-4297-febe-bcc17f48eefc"
      },
      "source": [
        "n_records=data.shape[0]\n",
        "n_greater_50k=data[data.income == '>50K'].shape[0]\n",
        "n_at_most_50k=data[data.income == '<50K'].shape[0]\n",
        "greater_percent=n_greater_50k * 100.0 / n_records\n",
        "\n",
        "print(\"Total no of records: {}\".format(n_records))\n",
        "print(\"Individuals making more than $50,000: {}\".format(n_greater_50k))\n",
        "print(\"Individuals making less than $50,000: {}\".format(n_at_most_50k))\n",
        "print(\"Percentage of Individuals making more than $50,000: {:.2f}%\".format(greater_percent))\n"
      ],
      "execution_count": null,
      "outputs": [
        {
          "output_type": "stream",
          "text": [
            "Total no of records: 45222\n",
            "Individuals making more than $50,000: 11208\n",
            "Individuals making less than $50,000: 0\n",
            "Percentage of Individuals making more than $50,000: 24.78%\n"
          ],
          "name": "stdout"
        }
      ]
    },
    {
      "cell_type": "code",
      "metadata": {
        "id": "a_oyGkL6jntp",
        "colab": {
          "base_uri": "https://localhost:8080/",
          "height": 269
        },
        "outputId": "c7e28f43-cd92-4961-93c7-24edfd372d69"
      },
      "source": [
        "data.dtypes"
      ],
      "execution_count": null,
      "outputs": [
        {
          "output_type": "execute_result",
          "data": {
            "text/plain": [
              "age                  int64\n",
              "workclass           object\n",
              "education_level     object\n",
              "education-num      float64\n",
              "marital-status      object\n",
              "occupation          object\n",
              "relationship        object\n",
              "race                object\n",
              "sex                 object\n",
              "capital-gain       float64\n",
              "capital-loss       float64\n",
              "hours-per-week     float64\n",
              "native-country      object\n",
              "income              object\n",
              "dtype: object"
            ]
          },
          "metadata": {
            "tags": []
          },
          "execution_count": 22
        }
      ]
    },
    {
      "cell_type": "code",
      "metadata": {
        "id": "7rxVYNR4psy5",
        "colab": {
          "base_uri": "https://localhost:8080/",
          "height": 391
        },
        "outputId": "7dbb9144-0350-48e9-96d1-dc58b608ea0c"
      },
      "source": [
        "income_raw=data['income']\n",
        "features_raw=data.drop('income',axis=1)\n",
        "\n",
        "vs.distribution(features_raw)"
      ],
      "execution_count": null,
      "outputs": [
        {
          "output_type": "display_data",
          "data": {
            "image/png": "[encoded data removed]",
            "text/plain": [
              "<Figure size 792x360 with 2 Axes>"
            ]
          },
          "metadata": {
            "tags": [],
            "needs_background": "light"
          }
        }
      ]
    },
    {
      "cell_type": "code",
      "metadata": {
        "id": "mktPdaqeqVUu",
        "colab": {
          "base_uri": "https://localhost:8080/",
          "height": 391
        },
        "outputId": "c72bfe4e-bac3-4cbd-b9d8-2a1dd38936bc"
      },
      "source": [
        "skewed=['capital-gain','capital-loss']\n",
        "features_log_transformed=pd.DataFrame(data=features_raw)\n",
        "features_log_transformed[skewed] = features_raw[skewed].apply(lambda x: np.log(x+1))\n",
        "vs.distribution(features_log_transformed,transformed=True)"
      ],
      "execution_count": null,
      "outputs": [
        {
          "output_type": "display_data",
          "data": {
            "image/png": "[encoded data removed]",
            "text/plain": [
              "<Figure size 792x360 with 2 Axes>"
            ]
          },
          "metadata": {
            "tags": [],
            "needs_background": "light"
          }
        }
      ]
    },
    {
      "cell_type": "code",
      "metadata": {
        "id": "0tTgwQAPrcn0",
        "colab": {
          "base_uri": "https://localhost:8080/",
          "height": 313
        },
        "outputId": "1b3ac430-1463-47a2-a092-321dba85135a"
      },
      "source": [
        "scaler=MinMaxScaler()\n",
        "numerical=[\n",
        "           'age','education-num','capital-gain','capital-loss','hours-per-week'\n",
        "]\n",
        "\n",
        "features_log_minmax_transform=pd.DataFrame(data=features_log_transformed)\n",
        "features_log_minmax_transform[numerical]=scaler.fit_transform(features_log_transformed[numerical])\n",
        "display(features_log_minmax_transform.head())"
      ],
      "execution_count": null,
      "outputs": [
        {
          "output_type": "display_data",
          "data": {
            "text/html": [
              "<div>\n",
              "<style scoped>\n",
              "    .dataframe tbody tr th:only-of-type {\n",
              "        vertical-align: middle;\n",
              "    }\n",
              "\n",
              "    .dataframe tbody tr th {\n",
              "        vertical-align: top;\n",
              "    }\n",
              "\n",
              "    .dataframe thead th {\n",
              "        text-align: right;\n",
              "    }\n",
              "</style>\n",
              "<table border=\"1\" class=\"dataframe\">\n",
              "  <thead>\n",
              "    <tr style=\"text-align: right;\">\n",
              "      <th></th>\n",
              "      <th>age</th>\n",
              "      <th>workclass</th>\n",
              "      <th>education_level</th>\n",
              "      <th>education-num</th>\n",
              "      <th>marital-status</th>\n",
              "      <th>occupation</th>\n",
              "      <th>relationship</th>\n",
              "      <th>race</th>\n",
              "      <th>sex</th>\n",
              "      <th>capital-gain</th>\n",
              "      <th>capital-loss</th>\n",
              "      <th>hours-per-week</th>\n",
              "      <th>native-country</th>\n",
              "    </tr>\n",
              "  </thead>\n",
              "  <tbody>\n",
              "    <tr>\n",
              "      <th>0</th>\n",
              "      <td>0.301370</td>\n",
              "      <td>State-gov</td>\n",
              "      <td>Bachelors</td>\n",
              "      <td>0.800000</td>\n",
              "      <td>Never-married</td>\n",
              "      <td>Adm-clerical</td>\n",
              "      <td>Not-in-family</td>\n",
              "      <td>White</td>\n",
              "      <td>Male</td>\n",
              "      <td>0.667492</td>\n",
              "      <td>0.0</td>\n",
              "      <td>0.397959</td>\n",
              "      <td>United-States</td>\n",
              "    </tr>\n",
              "    <tr>\n",
              "      <th>1</th>\n",
              "      <td>0.452055</td>\n",
              "      <td>Self-emp-not-inc</td>\n",
              "      <td>Bachelors</td>\n",
              "      <td>0.800000</td>\n",
              "      <td>Married-civ-spouse</td>\n",
              "      <td>Exec-managerial</td>\n",
              "      <td>Husband</td>\n",
              "      <td>White</td>\n",
              "      <td>Male</td>\n",
              "      <td>0.000000</td>\n",
              "      <td>0.0</td>\n",
              "      <td>0.122449</td>\n",
              "      <td>United-States</td>\n",
              "    </tr>\n",
              "    <tr>\n",
              "      <th>2</th>\n",
              "      <td>0.287671</td>\n",
              "      <td>Private</td>\n",
              "      <td>HS-grad</td>\n",
              "      <td>0.533333</td>\n",
              "      <td>Divorced</td>\n",
              "      <td>Handlers-cleaners</td>\n",
              "      <td>Not-in-family</td>\n",
              "      <td>White</td>\n",
              "      <td>Male</td>\n",
              "      <td>0.000000</td>\n",
              "      <td>0.0</td>\n",
              "      <td>0.397959</td>\n",
              "      <td>United-States</td>\n",
              "    </tr>\n",
              "    <tr>\n",
              "      <th>3</th>\n",
              "      <td>0.493151</td>\n",
              "      <td>Private</td>\n",
              "      <td>11th</td>\n",
              "      <td>0.400000</td>\n",
              "      <td>Married-civ-spouse</td>\n",
              "      <td>Handlers-cleaners</td>\n",
              "      <td>Husband</td>\n",
              "      <td>Black</td>\n",
              "      <td>Male</td>\n",
              "      <td>0.000000</td>\n",
              "      <td>0.0</td>\n",
              "      <td>0.397959</td>\n",
              "      <td>United-States</td>\n",
              "    </tr>\n",
              "    <tr>\n",
              "      <th>4</th>\n",
              "      <td>0.150685</td>\n",
              "      <td>Private</td>\n",
              "      <td>Bachelors</td>\n",
              "      <td>0.800000</td>\n",
              "      <td>Married-civ-spouse</td>\n",
              "      <td>Prof-specialty</td>\n",
              "      <td>Wife</td>\n",
              "      <td>Black</td>\n",
              "      <td>Female</td>\n",
              "      <td>0.000000</td>\n",
              "      <td>0.0</td>\n",
              "      <td>0.397959</td>\n",
              "      <td>Cuba</td>\n",
              "    </tr>\n",
              "  </tbody>\n",
              "</table>\n",
              "</div>"
            ],
            "text/plain": [
              "        age          workclass  ... hours-per-week  native-country\n",
              "0  0.301370          State-gov  ...       0.397959   United-States\n",
              "1  0.452055   Self-emp-not-inc  ...       0.122449   United-States\n",
              "2  0.287671            Private  ...       0.397959   United-States\n",
              "3  0.493151            Private  ...       0.397959   United-States\n",
              "4  0.150685            Private  ...       0.397959            Cuba\n",
              "\n",
              "[5 rows x 13 columns]"
            ]
          },
          "metadata": {
            "tags": []
          }
        }
      ]
    },
    {
      "cell_type": "code",
      "metadata": {
        "id": "hnLZRWMitCmh",
        "colab": {
          "base_uri": "https://localhost:8080/",
          "height": 34
        },
        "outputId": "e0c3438e-547a-4aa4-f2d9-8d0d5152229f"
      },
      "source": [
        "features_final=pd.get_dummies(features_raw)\n",
        "\n",
        "income=income_raw.apply(lambda x: int(x=='>50K'))\n",
        "\n",
        "encoded=list(features_final.columns)\n",
        "print(\"{} total features after one-hot encoding\".format(len(encoded)))"
      ],
      "execution_count": null,
      "outputs": [
        {
          "output_type": "stream",
          "text": [
            "103 total features after one-hot encoding\n"
          ],
          "name": "stdout"
        }
      ]
    },
    {
      "cell_type": "code",
      "metadata": {
        "id": "Lbg9G70Bu5nQ",
        "colab": {
          "base_uri": "https://localhost:8080/",
          "height": 50
        },
        "outputId": "cc439391-0295-4175-d8cb-0dd3c76d9146"
      },
      "source": [
        "X_train,X_test,y_train,y_test = train_test_split(features_final,income,test_size=0.2,random_state=0)\n",
        "print(\"Training set has {} samples\".format(X_train.shape[0]))\n",
        "print(\"Testing set has {} samples\".format(X_test.shape[0]))"
      ],
      "execution_count": null,
      "outputs": [
        {
          "output_type": "stream",
          "text": [
            "Training set has 36177 samples\n",
            "Testing set has 9045 samples\n"
          ],
          "name": "stdout"
        }
      ]
    },
    {
      "cell_type": "code",
      "metadata": {
        "id": "DMlRIT0ivjVr",
        "colab": {
          "base_uri": "https://localhost:8080/",
          "height": 34
        },
        "outputId": "985ae572-175f-45ab-c1af-f298c6161ea4"
      },
      "source": [
        " true_positives=sum(y_train.append(y_test))\n",
        " true_negatives=0\n",
        " false_positives=y_train.append(y_test).value_counts()[0]\n",
        " false_negatives=0\n",
        "\n",
        " accuracy=true_positives / (true_positives+false_positives)\n",
        " precision=true_positives / (true_positives+false_positives)\n",
        " recall=true_positives / (true_positives+false_negatives)\n",
        "\n",
        " beta=0.5\n",
        " fscore=(1+beta**2)*(precision*recall)/((beta**2 * precision)+recall)\n",
        "\n",
        " print(\"Naive Predictor: [Accuracy score: {:.4f},F-score:{:.4f}]\".format(accuracy,fscore))"
      ],
      "execution_count": null,
      "outputs": [
        {
          "output_type": "stream",
          "text": [
            "Naive Predictor: [Accuracy score: 0.2478,F-score:0.2917]\n"
          ],
          "name": "stdout"
        }
      ]
    },
    {
      "cell_type": "code",
      "metadata": {
        "id": "8wXxu1U9ylVG"
      },
      "source": [
        "def train_predict(learner,sample_size,X_train,y_train,X_test,y_test):\n",
        "  results={}\n",
        "  start=time()\n",
        "  learner=learner.fit(X_train[:sample_size],y_train[:sample_size])\n",
        "  end=time()\n",
        "  results['train_time']=end-start\n",
        "  start=time()\n",
        "  predictions_test=learner.predict(X_test)\n",
        "  predictions_train=learner.predict(X_train[:300])\n",
        "  end=time()\n",
        "  results['pred_time']=end-start\n",
        "  results['acc_train']=accuracy_score(y_train[:300],\n",
        "                                      predictions_train[:300])\n",
        "  results['acc_test']=accuracy_score(y_test,predictions_test)\n",
        "  results['f_train']=fbeta_score(y_train[:300],predictions_train[:300],beta=0.5)\n",
        "  results['f_test']=fbeta_score(y_test,predictions_test,beta=0.5)\n",
        "  print(\"{} trained on {} samples.\".format(learner .__class__.__name__,sample_size))\n",
        "  return results\n",
        "  "
      ],
      "execution_count": null,
      "outputs": []
    },
    {
      "cell_type": "code",
      "metadata": {
        "id": "d6QI_0L0a23_",
        "colab": {
          "base_uri": "https://localhost:8080/",
          "height": 892
        },
        "outputId": "05568a7b-3f43-47d0-cb2a-6686cede6cbb"
      },
      "source": [
        "clf_A=LogisticRegression(random_state=42)\n",
        "clf_B=LinearSVC(random_state=42)\n",
        "clf_C=GradientBoostingClassifier(random_state=42)\n",
        "\n",
        "samples_100=len(y_train)\n",
        "samples_10=int(samples_100/10)\n",
        "samples_1=int(samples_100/100)\n",
        "\n",
        "results={}\n",
        "for clf in [clf_A,clf_B,clf_C]:\n",
        "  clf_name=clf .__class__.__name__\n",
        "  results[clf_name]={}\n",
        "  for i,samples in enumerate([samples_1,samples_10,samples_100]):\n",
        "    results[clf_name][i] = train_predict(clf,samples,X_train,y_train,X_test,y_test)\n",
        "vs.evaluate(results,accuracy,fscore)"
      ],
      "execution_count": null,
      "outputs": [
        {
          "output_type": "stream",
          "text": [
            "LogisticRegression trained on 361 samples.\n",
            "LogisticRegression trained on 3617 samples.\n"
          ],
          "name": "stdout"
        },
        {
          "output_type": "stream",
          "text": [
            "/usr/local/lib/python3.6/dist-packages/sklearn/linear_model/_logistic.py:940: ConvergenceWarning: lbfgs failed to converge (status=1):\n",
            "STOP: TOTAL NO. of ITERATIONS REACHED LIMIT.\n",
            "\n",
            "Increase the number of iterations (max_iter) or scale the data as shown in:\n",
            "    https://scikit-learn.org/stable/modules/preprocessing.html\n",
            "Please also refer to the documentation for alternative solver options:\n",
            "    https://scikit-learn.org/stable/modules/linear_model.html#logistic-regression\n",
            "  extra_warning_msg=_LOGISTIC_SOLVER_CONVERGENCE_MSG)\n"
          ],
          "name": "stderr"
        },
        {
          "output_type": "stream",
          "text": [
            "LogisticRegression trained on 36177 samples.\n",
            "LinearSVC trained on 361 samples.\n",
            "LinearSVC trained on 3617 samples.\n",
            "LinearSVC trained on 36177 samples.\n",
            "GradientBoostingClassifier trained on 361 samples.\n",
            "GradientBoostingClassifier trained on 3617 samples.\n",
            "GradientBoostingClassifier trained on 36177 samples.\n"
          ],
          "name": "stdout"
        },
        {
          "output_type": "stream",
          "text": [
            "/content/visuals.py:127: UserWarning: Tight layout not applied. tight_layout cannot make axes width small enough to accommodate all axes decorations\n",
            "  pl.tight_layout()\n"
          ],
          "name": "stderr"
        },
        {
          "output_type": "display_data",
          "data": {
            "image/png": "[encoded data removed]",
            "text/plain": [
              "<Figure size 792x504 with 6 Axes>"
            ]
          },
          "metadata": {
            "tags": [],
            "needs_background": "light"
          }
        }
      ]
    },
    {
      "cell_type": "code",
      "metadata": {
        "id": "YAn-sSmYcsUW",
        "colab": {
          "base_uri": "https://localhost:8080/",
          "height": 151
        },
        "outputId": "a10af5d3-b69a-480a-9567-ee8586a6497d"
      },
      "source": [
        "clf=GradientBoostingClassifier(random_state=42)\n",
        "\n",
        "parameters=[{'learning_rate': [0.05,0.1,0.15]},{'n_estimators':[250,500,750]}]\n",
        "scorer=make_scorer(fbeta_score,beta=0.5)\n",
        "grid_obj=GridSearchCV(clf,parameters,scoring=scorer,n_jobs=-1)\n",
        "grid_fit=grid_obj.fit(X_train,y_train)\n",
        "best_clf=grid_fit.best_estimator_\n",
        "\n",
        "predictions=(clf.fit(X_train,y_train)).predict(X_test)\n",
        "best_predictions=best_clf.predict(X_test)\n",
        "\n",
        "print(\"Unoptimized model\\n------\")\n",
        "print(\"Accuracy score on testing data: {:.4f}\".format(accuracy_score(y_test,predictions)))\n",
        "print(\"F-score on testing data: {:.4f}\".format(fbeta_score(y_test,predictions,beta=0.5)))\n",
        "print(\"\\nOptimized Model\\n------\")\n",
        "print(\"Final Accuracy score on testin data: {:.4f}\".format(fbeta_score(y_test,best_predictions,beta=0.5)))"
      ],
      "execution_count": null,
      "outputs": [
        {
          "output_type": "stream",
          "text": [
            "Unoptimized model\n",
            "------\n",
            "Accuracy score on testing data: 0.8630\n",
            "F-score on testing data: 0.7395\n",
            "\n",
            "Optimized Model\n",
            "------\n",
            "Final Accuracy score on testin data: 0.7545\n"
          ],
          "name": "stdout"
        }
      ]
    },
    {
      "cell_type": "code",
      "metadata": {
        "id": "Esl1_7Fbiy2D",
        "colab": {
          "base_uri": "https://localhost:8080/",
          "height": 185
        },
        "outputId": "bc44f9a6-1de3-480c-f14e-d93ace573a0f"
      },
      "source": [
        "best_clf"
      ],
      "execution_count": null,
      "outputs": [
        {
          "output_type": "execute_result",
          "data": {
            "text/plain": [
              "GradientBoostingClassifier(ccp_alpha=0.0, criterion='friedman_mse', init=None,\n",
              "                           learning_rate=0.1, loss='deviance', max_depth=3,\n",
              "                           max_features=None, max_leaf_nodes=None,\n",
              "                           min_impurity_decrease=0.0, min_impurity_split=None,\n",
              "                           min_samples_leaf=1, min_samples_split=2,\n",
              "                           min_weight_fraction_leaf=0.0, n_estimators=500,\n",
              "                           n_iter_no_change=None, presort='deprecated',\n",
              "                           random_state=42, subsample=1.0, tol=0.0001,\n",
              "                           validation_fraction=0.1, verbose=0,\n",
              "                           warm_start=False)"
            ]
          },
          "metadata": {
            "tags": []
          },
          "execution_count": 32
        }
      ]
    },
    {
      "cell_type": "code",
      "metadata": {
        "id": "p8426O8lrKBa"
      },
      "source": [
        "data_numeric=features_log_minmax_transform.copy().select_dtypes(exclude=object)\n",
        "data_numeric['income']=income\n",
        "explore_numeric=data_numeric.groupby(by='income',as_index=False).describe()"
      ],
      "execution_count": null,
      "outputs": []
    },
    {
      "cell_type": "code",
      "metadata": {
        "id": "0eCOqD0PrmOj",
        "colab": {
          "base_uri": "https://localhost:8080/",
          "height": 101
        },
        "outputId": "c82fab4d-f969-470c-e5af-8e622859b5d3"
      },
      "source": [
        "for feature in explore_numeric.columns.levels[0][:-1]:\n",
        "  result=(explore_numeric[feature].iloc[[1]]['mean'][1] - explore_numeric[feature].iloc[[0]]['mean'][0]) / explore_numeric[feature].iloc[[1]]['std'][1]\n",
        "  print(feature + \": \"+ str(result))"
      ],
      "execution_count": null,
      "outputs": [
        {
          "output_type": "stream",
          "text": [
            "age: 0.701768642435527\n",
            "education-num: 0.8311604128912686\n",
            "capital-gain: 0.42874856733128125\n",
            "capital-loss: 0.22836396040303453\n",
            "hours-per-week: 0.5851642573495133\n"
          ],
          "name": "stdout"
        }
      ]
    },
    {
      "cell_type": "code",
      "metadata": {
        "id": "6QhJI2bjseDv"
      },
      "source": [
        "data_categorical=features_log_minmax_transform.copy().select_dtypes(include=object)\n",
        "data_categorical['income']=income"
      ],
      "execution_count": null,
      "outputs": []
    },
    {
      "cell_type": "code",
      "metadata": {
        "id": "CMUPRW8Ls75q",
        "colab": {
          "base_uri": "https://localhost:8080/",
          "height": 151
        },
        "outputId": "54da8453-11a2-4592-b6c4-6ff5274e3523"
      },
      "source": [
        "for feature in data_categorical.columns:\n",
        "  if feature=='income':\n",
        "    pass\n",
        "  else:\n",
        "    print(feature+\": \"+ str(data_categorical.groupby(by=feature).income.mean().std()))"
      ],
      "execution_count": null,
      "outputs": [
        {
          "output_type": "stream",
          "text": [
            "workclass: 0.14316478860404366\n",
            "education_level: 0.2491655034807551\n",
            "marital-status: 0.17817581650752495\n",
            "occupation: 0.14314138408838076\n",
            "relationship: 0.2168656159383237\n",
            "race: 0.0811921470550573\n",
            "sex: 0.14064455183490965\n",
            "native-country: 0.13563662545202018\n"
          ],
          "name": "stdout"
        }
      ]
    },
    {
      "cell_type": "code",
      "metadata": {
        "id": "TKxvC_JqtS4C",
        "colab": {
          "base_uri": "https://localhost:8080/",
          "height": 369
        },
        "outputId": "7e1b9f35-186f-4107-b763-cbc3ce358f3c"
      },
      "source": [
        "importances= best_clf.feature_importances_\n",
        "vs.feature_plot(importances,X_train,y_train)"
      ],
      "execution_count": null,
      "outputs": [
        {
          "output_type": "display_data",
          "data": {
            "image/png": "[encoded data removed]",
            "text/plain": [
              "<Figure size 648x360 with 1 Axes>"
            ]
          },
          "metadata": {
            "tags": [],
            "needs_background": "light"
          }
        }
      ]
    },
    {
      "cell_type": "code",
      "metadata": {
        "id": "vsjGE7c-tsfC",
        "colab": {
          "base_uri": "https://localhost:8080/",
          "height": 168
        },
        "outputId": "a3717384-3a49-47b3-8fde-e4d963e6b93e"
      },
      "source": [
        "X_train_reduced=X_train[X_train.columns.values[(np.argsort(importances)[::-1])[:5]]]\n",
        "X_test_reduced=X_test[X_test.columns.values[(np.argsort(importances)[::-1])[:5]]]\n",
        "\n",
        "clf=(clone(best_clf)).fit(X_train_reduced,y_train)\n",
        "\n",
        "reduced_predictions=clf.predict(X_test_reduced)\n",
        "\n",
        "print(\"Final Model trained on full data\\n------\")\n",
        "print(\"Accuracy on testing data: {:.4f}\".format(accuracy_score(y_test,best_predictions)))\n",
        "print(\"F-score on testing data: {:.4f}\".format(fbeta_score(y_test,best_predictions,beta=0.5)))\n",
        "print(\"\\nFinal model trained on reduced data\\n-------\")\n",
        "print(\"Accuracy on testing data: {:.4f}\".format(accuracy_score(y_test,reduced_predictions)))\n",
        "print(\"F-score on testing data: {:.4f}\".format(fbeta_score(y_test,reduced_predictions,beta=0.5)))"
      ],
      "execution_count": null,
      "outputs": [
        {
          "output_type": "stream",
          "text": [
            "Final Model trained on full data\n",
            "------\n",
            "Accuracy on testing data: 0.8718\n",
            "F-score on testing data: 0.7545\n",
            "\n",
            "Final model trained on reduced data\n",
            "-------\n",
            "Accuracy on testing data: 0.8589\n",
            "F-score on testing data: 0.7257\n"
          ],
          "name": "stdout"
        }
      ]
    },
    {
      "cell_type": "code",
      "metadata": {
        "id": "jYBnWuwzwNFF"
      },
      "source": [
        ""
      ],
      "execution_count": null,
      "outputs": []
    }
  ]
}